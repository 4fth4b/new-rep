{
 "cells": [
  {
   "cell_type": "code",
   "execution_count": 1,
   "id": "d51388a2-f22d-42a5-9883-3ba358bfa333",
   "metadata": {},
   "outputs": [],
   "source": [
    "from sklearn.datasets import load_digits"
   ]
  },
  {
   "cell_type": "code",
   "execution_count": 2,
   "id": "b47f3d20-df66-4d3b-9aa8-028ab3260b06",
   "metadata": {},
   "outputs": [],
   "source": [
    "digits=load_digits()"
   ]
  },
  {
   "cell_type": "code",
   "execution_count": 3,
   "id": "b0ca7d3d-672e-4ac3-a26d-49e0b1e3fd6a",
   "metadata": {},
   "outputs": [],
   "source": [
    "x=digits['data']"
   ]
  },
  {
   "cell_type": "code",
   "execution_count": 4,
   "id": "e13f2d59-9a90-43b2-8aec-be66307e6815",
   "metadata": {},
   "outputs": [],
   "source": [
    "y=digits['target']"
   ]
  },
  {
   "cell_type": "code",
   "execution_count": 5,
   "id": "1625951a-faa4-4246-9034-0294e01f6423",
   "metadata": {},
   "outputs": [],
   "source": [
    "from sklearn.model_selection import train_test_split"
   ]
  },
  {
   "cell_type": "code",
   "execution_count": 6,
   "id": "22d6e6fe-7dc7-4452-b696-1d906f0d4ef0",
   "metadata": {},
   "outputs": [],
   "source": [
    "from sklearn.svm import SVC"
   ]
  },
  {
   "cell_type": "code",
   "execution_count": 12,
   "id": "5c98407f-9342-4dfa-b405-f8d4f7f3a664",
   "metadata": {},
   "outputs": [],
   "source": [
    "svc_l=SVC(kernel='linear')"
   ]
  },
  {
   "cell_type": "code",
   "execution_count": 13,
   "id": "0d9d87fc-43c3-4b71-a80f-bcfdf75ea8d1",
   "metadata": {},
   "outputs": [],
   "source": [
    "xtrain,xtest,ytrain,ytest=train_test_split(x,y,train_size=.8,random_state=1)"
   ]
  },
  {
   "cell_type": "code",
   "execution_count": 14,
   "id": "2c53e3bd-2de2-4bbb-ae99-d9f6fb2fbef8",
   "metadata": {},
   "outputs": [
    {
     "data": {
      "text/plain": [
       "SVC(kernel='linear')"
      ]
     },
     "execution_count": 14,
     "metadata": {},
     "output_type": "execute_result"
    }
   ],
   "source": [
    "svc_l.fit(xtrain,ytrain)"
   ]
  },
  {
   "cell_type": "code",
   "execution_count": 15,
   "id": "0c102143-e312-43e3-b1a4-aa96ded18752",
   "metadata": {},
   "outputs": [
    {
     "data": {
      "text/plain": [
       "0.9916666666666667"
      ]
     },
     "execution_count": 15,
     "metadata": {},
     "output_type": "execute_result"
    }
   ],
   "source": [
    "svc_l.score(xtest,ytest)"
   ]
  },
  {
   "cell_type": "code",
   "execution_count": 16,
   "id": "c6694105-1052-4a6d-83d0-befe6fce409a",
   "metadata": {},
   "outputs": [],
   "source": [
    "svc_p=SVC(kernel='poly')"
   ]
  },
  {
   "cell_type": "code",
   "execution_count": 17,
   "id": "264fbc95-e2a1-46c4-b4c2-58844b422bb0",
   "metadata": {},
   "outputs": [
    {
     "data": {
      "text/plain": [
       "SVC(kernel='poly')"
      ]
     },
     "execution_count": 17,
     "metadata": {},
     "output_type": "execute_result"
    }
   ],
   "source": [
    "svc_p.fit(xtrain,ytrain)"
   ]
  },
  {
   "cell_type": "code",
   "execution_count": 18,
   "id": "c165d220-40af-4aa6-942d-a32f2ecb821a",
   "metadata": {},
   "outputs": [
    {
     "data": {
      "text/plain": [
       "0.9888888888888889"
      ]
     },
     "execution_count": 18,
     "metadata": {},
     "output_type": "execute_result"
    }
   ],
   "source": [
    "svc_p.score(xtest,ytest)"
   ]
  },
  {
   "cell_type": "code",
   "execution_count": 19,
   "id": "6547ff47-07cc-473d-8d29-bb80fe38d30d",
   "metadata": {},
   "outputs": [],
   "source": [
    "svc=SVC()"
   ]
  },
  {
   "cell_type": "code",
   "execution_count": 20,
   "id": "333cae2c-bf3e-4655-b42d-d622bfdde930",
   "metadata": {},
   "outputs": [
    {
     "data": {
      "text/plain": [
       "SVC()"
      ]
     },
     "execution_count": 20,
     "metadata": {},
     "output_type": "execute_result"
    }
   ],
   "source": [
    "svc.fit(xtrain,ytrain)"
   ]
  },
  {
   "cell_type": "code",
   "execution_count": 21,
   "id": "1c2a0a2f-c370-4da8-9cb7-976e8ae3aafd",
   "metadata": {},
   "outputs": [
    {
     "data": {
      "text/plain": [
       "0.9916666666666667"
      ]
     },
     "execution_count": 21,
     "metadata": {},
     "output_type": "execute_result"
    }
   ],
   "source": [
    "svc.score(xtest,ytest)"
   ]
  },
  {
   "cell_type": "code",
   "execution_count": 22,
   "id": "08149283-62eb-4af0-a3ef-48981375c316",
   "metadata": {},
   "outputs": [
    {
     "data": {
      "text/plain": [
       "array([1])"
      ]
     },
     "execution_count": 22,
     "metadata": {},
     "output_type": "execute_result"
    }
   ],
   "source": [
    "svc_p.predict([xtest[250]])"
   ]
  },
  {
   "cell_type": "code",
   "execution_count": 23,
   "id": "f0df110b-24da-418a-96d8-8dc1a552a5a9",
   "metadata": {},
   "outputs": [
    {
     "data": {
      "text/plain": [
       "4"
      ]
     },
     "execution_count": 23,
     "metadata": {},
     "output_type": "execute_result"
    }
   ],
   "source": [
    "digits.target[250]"
   ]
  },
  {
   "cell_type": "code",
   "execution_count": null,
   "id": "5f7ef4f7-e5eb-4213-acdd-95a0b2ffd35b",
   "metadata": {},
   "outputs": [],
   "source": []
  }
 ],
 "metadata": {
  "kernelspec": {
   "display_name": "Python 3 (ipykernel)",
   "language": "python",
   "name": "python3"
  },
  "language_info": {
   "codemirror_mode": {
    "name": "ipython",
    "version": 3
   },
   "file_extension": ".py",
   "mimetype": "text/x-python",
   "name": "python",
   "nbconvert_exporter": "python",
   "pygments_lexer": "ipython3",
   "version": "3.9.12"
  }
 },
 "nbformat": 4,
 "nbformat_minor": 5
}
