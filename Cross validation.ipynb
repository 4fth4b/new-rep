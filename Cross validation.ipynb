{
 "cells": [
  {
   "cell_type": "markdown",
   "id": "591c2a09-e90a-4da2-a898-e2d03949c5ba",
   "metadata": {},
   "source": [
    "**Cross validation**"
   ]
  },
  {
   "cell_type": "code",
   "execution_count": 1,
   "id": "98932acb-7798-41de-aa81-04decde98bf1",
   "metadata": {},
   "outputs": [],
   "source": [
    "import pandas as pd\n",
    "import numpy as np\n",
    "import os\n",
    "import matplotlib.pyplot as plt"
   ]
  },
  {
   "cell_type": "code",
   "execution_count": 2,
   "id": "a2c78cd1-b590-4aae-b508-7f9f7ef18c27",
   "metadata": {},
   "outputs": [],
   "source": [
    "data=np.array([1,3,4,5,6,8,12,14,80,100])"
   ]
  },
  {
   "cell_type": "code",
   "execution_count": 3,
   "id": "831b2344-0e57-4e56-8960-4d29b5394329",
   "metadata": {},
   "outputs": [],
   "source": [
    "from sklearn.model_selection import KFold"
   ]
  },
  {
   "cell_type": "code",
   "execution_count": 4,
   "id": "03ca462f-73f3-4b5a-ae9d-360127a60e81",
   "metadata": {},
   "outputs": [],
   "source": [
    "fold=KFold(4)"
   ]
  },
  {
   "cell_type": "code",
   "execution_count": 7,
   "id": "4732d602-9007-408d-adf2-33d3bcb275af",
   "metadata": {},
   "outputs": [
    {
     "name": "stdout",
     "output_type": "stream",
     "text": [
      "train_Data [3 4 5 6 7 8 9]\n",
      "test_Data [0 1 2]\n",
      "----------------------------\n",
      "train_Data [0 1 2 6 7 8 9]\n",
      "test_Data [3 4 5]\n",
      "----------------------------\n",
      "train_Data [0 1 2 3 4 5 8 9]\n",
      "test_Data [6 7]\n",
      "----------------------------\n",
      "train_Data [0 1 2 3 4 5 6 7]\n",
      "test_Data [8 9]\n",
      "----------------------------\n"
     ]
    }
   ],
   "source": [
    "for i in fold.split(data):\n",
    "    train_index,test_index=i\n",
    "    print('train_Data',train_index)\n",
    "    print('test_Data',test_index)\n",
    "    print('----------------------------')"
   ]
  },
  {
   "cell_type": "code",
   "execution_count": 8,
   "id": "bcfdda4f-dc0a-4688-9aff-eff2a6cb4a43",
   "metadata": {},
   "outputs": [],
   "source": [
    "from sklearn.datasets import load_digits"
   ]
  },
  {
   "cell_type": "code",
   "execution_count": 10,
   "id": "9280a8d3-699b-4a07-9be7-9942140bb8de",
   "metadata": {},
   "outputs": [],
   "source": [
    "digits=load_digits()\n",
    "x=digits['data']\n",
    "y=digits['target']"
   ]
  },
  {
   "cell_type": "code",
   "execution_count": 11,
   "id": "18d0354c-504d-4385-a057-92b0aaa0b078",
   "metadata": {},
   "outputs": [],
   "source": [
    "fld=KFold(5)"
   ]
  },
  {
   "cell_type": "code",
   "execution_count": 12,
   "id": "79db659c-9d71-4f0d-8e03-5d349421fa43",
   "metadata": {},
   "outputs": [],
   "source": [
    "from sklearn.linear_model import LogisticRegression\n",
    "from sklearn.tree import DecisionTreeClassifier\n",
    "from sklearn.ensemble import RandomForestClassifier"
   ]
  },
  {
   "cell_type": "markdown",
   "id": "fbeafc54-1905-4503-b76e-2e49b9467065",
   "metadata": {},
   "source": [
    "**Working**"
   ]
  },
  {
   "cell_type": "code",
   "execution_count": 13,
   "id": "10fa2202-0139-4c58-9b3a-6b9ee3fc7bb4",
   "metadata": {},
   "outputs": [],
   "source": [
    "Lscore=[]\n",
    "Dscore=[]\n",
    "Rscore=[]"
   ]
  },
  {
   "cell_type": "code",
   "execution_count": 15,
   "id": "8533801c-f344-432c-b678-ad19247f4150",
   "metadata": {},
   "outputs": [
    {
     "name": "stderr",
     "output_type": "stream",
     "text": [
      "C:\\Users\\aftha\\anaconda3\\lib\\site-packages\\sklearn\\linear_model\\_logistic.py:814: ConvergenceWarning: lbfgs failed to converge (status=1):\n",
      "STOP: TOTAL NO. of ITERATIONS REACHED LIMIT.\n",
      "\n",
      "Increase the number of iterations (max_iter) or scale the data as shown in:\n",
      "    https://scikit-learn.org/stable/modules/preprocessing.html\n",
      "Please also refer to the documentation for alternative solver options:\n",
      "    https://scikit-learn.org/stable/modules/linear_model.html#logistic-regression\n",
      "  n_iter_i = _check_optimize_result(\n",
      "C:\\Users\\aftha\\anaconda3\\lib\\site-packages\\sklearn\\linear_model\\_logistic.py:814: ConvergenceWarning: lbfgs failed to converge (status=1):\n",
      "STOP: TOTAL NO. of ITERATIONS REACHED LIMIT.\n",
      "\n",
      "Increase the number of iterations (max_iter) or scale the data as shown in:\n",
      "    https://scikit-learn.org/stable/modules/preprocessing.html\n",
      "Please also refer to the documentation for alternative solver options:\n",
      "    https://scikit-learn.org/stable/modules/linear_model.html#logistic-regression\n",
      "  n_iter_i = _check_optimize_result(\n",
      "C:\\Users\\aftha\\anaconda3\\lib\\site-packages\\sklearn\\linear_model\\_logistic.py:814: ConvergenceWarning: lbfgs failed to converge (status=1):\n",
      "STOP: TOTAL NO. of ITERATIONS REACHED LIMIT.\n",
      "\n",
      "Increase the number of iterations (max_iter) or scale the data as shown in:\n",
      "    https://scikit-learn.org/stable/modules/preprocessing.html\n",
      "Please also refer to the documentation for alternative solver options:\n",
      "    https://scikit-learn.org/stable/modules/linear_model.html#logistic-regression\n",
      "  n_iter_i = _check_optimize_result(\n",
      "C:\\Users\\aftha\\anaconda3\\lib\\site-packages\\sklearn\\linear_model\\_logistic.py:814: ConvergenceWarning: lbfgs failed to converge (status=1):\n",
      "STOP: TOTAL NO. of ITERATIONS REACHED LIMIT.\n",
      "\n",
      "Increase the number of iterations (max_iter) or scale the data as shown in:\n",
      "    https://scikit-learn.org/stable/modules/preprocessing.html\n",
      "Please also refer to the documentation for alternative solver options:\n",
      "    https://scikit-learn.org/stable/modules/linear_model.html#logistic-regression\n",
      "  n_iter_i = _check_optimize_result(\n",
      "C:\\Users\\aftha\\anaconda3\\lib\\site-packages\\sklearn\\linear_model\\_logistic.py:814: ConvergenceWarning: lbfgs failed to converge (status=1):\n",
      "STOP: TOTAL NO. of ITERATIONS REACHED LIMIT.\n",
      "\n",
      "Increase the number of iterations (max_iter) or scale the data as shown in:\n",
      "    https://scikit-learn.org/stable/modules/preprocessing.html\n",
      "Please also refer to the documentation for alternative solver options:\n",
      "    https://scikit-learn.org/stable/modules/linear_model.html#logistic-regression\n",
      "  n_iter_i = _check_optimize_result(\n"
     ]
    }
   ],
   "source": [
    "for i in fld.split(x,y):\n",
    "    train_index,test_index=i\n",
    "    xtrain=x[train_index]\n",
    "    ytrain=y[train_index]\n",
    "    xtest=x[test_index]\n",
    "    ytest=y[test_index]\n",
    "    #logistic model\n",
    "    logistic=LogisticRegression()\n",
    "    logistic.fit(xtrain,ytrain)\n",
    "    Lscore.append(logistic.score(xtest,ytest))\n",
    "    #decision tree\n",
    "    tree=DecisionTreeClassifier()\n",
    "    tree.fit(xtrain,ytrain)\n",
    "    Dscore.append(tree.score(xtest,ytest))\n",
    "    #Random forest classifier\n",
    "    randf=RandomForestClassifier()\n",
    "    randf.fit(xtrain,ytrain)\n",
    "    Rscore.append(randf.score(xtest,ytest))"
   ]
  },
  {
   "cell_type": "code",
   "execution_count": 25,
   "id": "ed0cc353-d462-42eb-bec8-6d657ad48a1f",
   "metadata": {},
   "outputs": [
    {
     "data": {
      "text/plain": [
       "[0.9277777777777778,\n",
       " 0.8666666666666667,\n",
       " 0.9387186629526463,\n",
       " 0.935933147632312,\n",
       " 0.9080779944289693]"
      ]
     },
     "execution_count": 25,
     "metadata": {},
     "output_type": "execute_result"
    }
   ],
   "source": [
    "Lscore"
   ]
  },
  {
   "cell_type": "code",
   "execution_count": 18,
   "id": "30b6a860-d61f-4fe4-9cfe-be1c922ff16f",
   "metadata": {},
   "outputs": [
    {
     "data": {
      "text/plain": [
       "[0.7722222222222223,\n",
       " 0.7166666666666667,\n",
       " 0.8161559888579387,\n",
       " 0.8579387186629527,\n",
       " 0.7883008356545961]"
      ]
     },
     "execution_count": 18,
     "metadata": {},
     "output_type": "execute_result"
    }
   ],
   "source": [
    "Dscore"
   ]
  },
  {
   "cell_type": "code",
   "execution_count": 19,
   "id": "7c5ddcc8-1744-4eef-b909-2506dac0f4fd",
   "metadata": {},
   "outputs": [
    {
     "data": {
      "text/plain": [
       "[0.9361111111111111,\n",
       " 0.9027777777777778,\n",
       " 0.958217270194986,\n",
       " 0.9693593314763231,\n",
       " 0.9331476323119777]"
      ]
     },
     "execution_count": 19,
     "metadata": {},
     "output_type": "execute_result"
    }
   ],
   "source": [
    "Rscore"
   ]
  },
  {
   "cell_type": "code",
   "execution_count": 26,
   "id": "73cb9746-3e49-41a5-9a9a-8511ee61fb03",
   "metadata": {},
   "outputs": [],
   "source": [
    "Lmean=sum(Lscore)/len(Lscore)"
   ]
  },
  {
   "cell_type": "code",
   "execution_count": 27,
   "id": "77cf3e3a-9c87-41de-bf70-11532a177faf",
   "metadata": {},
   "outputs": [
    {
     "data": {
      "text/plain": [
       "0.9154348498916743"
      ]
     },
     "execution_count": 27,
     "metadata": {},
     "output_type": "execute_result"
    }
   ],
   "source": [
    "Lmean"
   ]
  },
  {
   "cell_type": "code",
   "execution_count": 28,
   "id": "4f62fe6e-c7d4-4c5b-b340-7ef694232c58",
   "metadata": {},
   "outputs": [],
   "source": [
    "Dmean=sum(Dscore)/len(Dscore)"
   ]
  },
  {
   "cell_type": "code",
   "execution_count": 29,
   "id": "289867d5-a7b5-4918-84e3-067b6549fe01",
   "metadata": {},
   "outputs": [
    {
     "data": {
      "text/plain": [
       "0.7902568864128753"
      ]
     },
     "execution_count": 29,
     "metadata": {},
     "output_type": "execute_result"
    }
   ],
   "source": [
    "Dmean"
   ]
  },
  {
   "cell_type": "code",
   "execution_count": 30,
   "id": "03cda255-c6df-497f-aa45-6d1dc5604bc2",
   "metadata": {},
   "outputs": [],
   "source": [
    "Rmean=sum(Rscore)/len(Rscore)"
   ]
  },
  {
   "cell_type": "code",
   "execution_count": 31,
   "id": "48acb185-cf35-4439-9c37-8a2b07462f6a",
   "metadata": {},
   "outputs": [
    {
     "data": {
      "text/plain": [
       "0.9399226245744352"
      ]
     },
     "execution_count": 31,
     "metadata": {},
     "output_type": "execute_result"
    }
   ],
   "source": [
    "Rmean"
   ]
  },
  {
   "cell_type": "code",
   "execution_count": null,
   "id": "0c01dbfa-080a-4ed0-9f1e-fb98915256da",
   "metadata": {},
   "outputs": [],
   "source": []
  },
  {
   "cell_type": "code",
   "execution_count": 33,
   "id": "d735d8dc-6e6c-447c-9222-e01ba56a3014",
   "metadata": {},
   "outputs": [],
   "source": [
    "from sklearn.model_selection import cross_val_score"
   ]
  },
  {
   "cell_type": "code",
   "execution_count": 34,
   "id": "440653af-74d3-4b16-9de9-0422be380d1d",
   "metadata": {},
   "outputs": [
    {
     "name": "stderr",
     "output_type": "stream",
     "text": [
      "C:\\Users\\aftha\\anaconda3\\lib\\site-packages\\sklearn\\linear_model\\_logistic.py:814: ConvergenceWarning: lbfgs failed to converge (status=1):\n",
      "STOP: TOTAL NO. of ITERATIONS REACHED LIMIT.\n",
      "\n",
      "Increase the number of iterations (max_iter) or scale the data as shown in:\n",
      "    https://scikit-learn.org/stable/modules/preprocessing.html\n",
      "Please also refer to the documentation for alternative solver options:\n",
      "    https://scikit-learn.org/stable/modules/linear_model.html#logistic-regression\n",
      "  n_iter_i = _check_optimize_result(\n",
      "C:\\Users\\aftha\\anaconda3\\lib\\site-packages\\sklearn\\linear_model\\_logistic.py:814: ConvergenceWarning: lbfgs failed to converge (status=1):\n",
      "STOP: TOTAL NO. of ITERATIONS REACHED LIMIT.\n",
      "\n",
      "Increase the number of iterations (max_iter) or scale the data as shown in:\n",
      "    https://scikit-learn.org/stable/modules/preprocessing.html\n",
      "Please also refer to the documentation for alternative solver options:\n",
      "    https://scikit-learn.org/stable/modules/linear_model.html#logistic-regression\n",
      "  n_iter_i = _check_optimize_result(\n",
      "C:\\Users\\aftha\\anaconda3\\lib\\site-packages\\sklearn\\linear_model\\_logistic.py:814: ConvergenceWarning: lbfgs failed to converge (status=1):\n",
      "STOP: TOTAL NO. of ITERATIONS REACHED LIMIT.\n",
      "\n",
      "Increase the number of iterations (max_iter) or scale the data as shown in:\n",
      "    https://scikit-learn.org/stable/modules/preprocessing.html\n",
      "Please also refer to the documentation for alternative solver options:\n",
      "    https://scikit-learn.org/stable/modules/linear_model.html#logistic-regression\n",
      "  n_iter_i = _check_optimize_result(\n",
      "C:\\Users\\aftha\\anaconda3\\lib\\site-packages\\sklearn\\linear_model\\_logistic.py:814: ConvergenceWarning: lbfgs failed to converge (status=1):\n",
      "STOP: TOTAL NO. of ITERATIONS REACHED LIMIT.\n",
      "\n",
      "Increase the number of iterations (max_iter) or scale the data as shown in:\n",
      "    https://scikit-learn.org/stable/modules/preprocessing.html\n",
      "Please also refer to the documentation for alternative solver options:\n",
      "    https://scikit-learn.org/stable/modules/linear_model.html#logistic-regression\n",
      "  n_iter_i = _check_optimize_result(\n",
      "C:\\Users\\aftha\\anaconda3\\lib\\site-packages\\sklearn\\linear_model\\_logistic.py:814: ConvergenceWarning: lbfgs failed to converge (status=1):\n",
      "STOP: TOTAL NO. of ITERATIONS REACHED LIMIT.\n",
      "\n",
      "Increase the number of iterations (max_iter) or scale the data as shown in:\n",
      "    https://scikit-learn.org/stable/modules/preprocessing.html\n",
      "Please also refer to the documentation for alternative solver options:\n",
      "    https://scikit-learn.org/stable/modules/linear_model.html#logistic-regression\n",
      "  n_iter_i = _check_optimize_result(\n"
     ]
    },
    {
     "data": {
      "text/plain": [
       "0.9137650882079852"
      ]
     },
     "execution_count": 34,
     "metadata": {},
     "output_type": "execute_result"
    }
   ],
   "source": [
    "lgr=cross_val_score(LogisticRegression(),x,y,cv=5)\n",
    "lgr.mean()"
   ]
  },
  {
   "cell_type": "code",
   "execution_count": 35,
   "id": "6c91704e-d27d-4e13-bae7-ffae88a05b5a",
   "metadata": {},
   "outputs": [
    {
     "data": {
      "text/plain": [
       "0.7774497059733829"
      ]
     },
     "execution_count": 35,
     "metadata": {},
     "output_type": "execute_result"
    }
   ],
   "source": [
    "dtree=cross_val_score(DecisionTreeClassifier(),x,y,cv=5)\n",
    "dtree.mean()"
   ]
  },
  {
   "cell_type": "code",
   "execution_count": 36,
   "id": "fd3dba18-57d2-45b6-be5e-7938d609f96a",
   "metadata": {},
   "outputs": [
    {
     "data": {
      "text/plain": [
       "0.9315753636645002"
      ]
     },
     "execution_count": 36,
     "metadata": {},
     "output_type": "execute_result"
    }
   ],
   "source": [
    "randft=cross_val_score(RandomForestClassifier(),x,y,cv=5)\n",
    "randft.mean()"
   ]
  },
  {
   "cell_type": "code",
   "execution_count": 37,
   "id": "2621e80f-abe1-4718-afc5-db727c0faf40",
   "metadata": {},
   "outputs": [
    {
     "name": "stderr",
     "output_type": "stream",
     "text": [
      "C:\\Users\\aftha\\anaconda3\\lib\\site-packages\\sklearn\\linear_model\\_logistic.py:814: ConvergenceWarning: lbfgs failed to converge (status=1):\n",
      "STOP: TOTAL NO. of ITERATIONS REACHED LIMIT.\n",
      "\n",
      "Increase the number of iterations (max_iter) or scale the data as shown in:\n",
      "    https://scikit-learn.org/stable/modules/preprocessing.html\n",
      "Please also refer to the documentation for alternative solver options:\n",
      "    https://scikit-learn.org/stable/modules/linear_model.html#logistic-regression\n",
      "  n_iter_i = _check_optimize_result(\n",
      "C:\\Users\\aftha\\anaconda3\\lib\\site-packages\\sklearn\\linear_model\\_logistic.py:814: ConvergenceWarning: lbfgs failed to converge (status=1):\n",
      "STOP: TOTAL NO. of ITERATIONS REACHED LIMIT.\n",
      "\n",
      "Increase the number of iterations (max_iter) or scale the data as shown in:\n",
      "    https://scikit-learn.org/stable/modules/preprocessing.html\n",
      "Please also refer to the documentation for alternative solver options:\n",
      "    https://scikit-learn.org/stable/modules/linear_model.html#logistic-regression\n",
      "  n_iter_i = _check_optimize_result(\n",
      "C:\\Users\\aftha\\anaconda3\\lib\\site-packages\\sklearn\\linear_model\\_logistic.py:814: ConvergenceWarning: lbfgs failed to converge (status=1):\n",
      "STOP: TOTAL NO. of ITERATIONS REACHED LIMIT.\n",
      "\n",
      "Increase the number of iterations (max_iter) or scale the data as shown in:\n",
      "    https://scikit-learn.org/stable/modules/preprocessing.html\n",
      "Please also refer to the documentation for alternative solver options:\n",
      "    https://scikit-learn.org/stable/modules/linear_model.html#logistic-regression\n",
      "  n_iter_i = _check_optimize_result(\n",
      "C:\\Users\\aftha\\anaconda3\\lib\\site-packages\\sklearn\\linear_model\\_logistic.py:814: ConvergenceWarning: lbfgs failed to converge (status=1):\n",
      "STOP: TOTAL NO. of ITERATIONS REACHED LIMIT.\n",
      "\n",
      "Increase the number of iterations (max_iter) or scale the data as shown in:\n",
      "    https://scikit-learn.org/stable/modules/preprocessing.html\n",
      "Please also refer to the documentation for alternative solver options:\n",
      "    https://scikit-learn.org/stable/modules/linear_model.html#logistic-regression\n",
      "  n_iter_i = _check_optimize_result(\n",
      "C:\\Users\\aftha\\anaconda3\\lib\\site-packages\\sklearn\\linear_model\\_logistic.py:814: ConvergenceWarning: lbfgs failed to converge (status=1):\n",
      "STOP: TOTAL NO. of ITERATIONS REACHED LIMIT.\n",
      "\n",
      "Increase the number of iterations (max_iter) or scale the data as shown in:\n",
      "    https://scikit-learn.org/stable/modules/preprocessing.html\n",
      "Please also refer to the documentation for alternative solver options:\n",
      "    https://scikit-learn.org/stable/modules/linear_model.html#logistic-regression\n",
      "  n_iter_i = _check_optimize_result(\n"
     ]
    },
    {
     "name": "stdout",
     "output_type": "stream",
     "text": [
      "l 0.9137650882079852\n",
      "d 0.7841349427421851\n",
      "r 0.9321371092541009\n"
     ]
    }
   ],
   "source": [
    "models={'l':LogisticRegression(),'d':DecisionTreeClassifier(),'r':RandomForestClassifier()}\n",
    "for i in models:\n",
    "    model=models[i]\n",
    "    scores=cross_val_score(model,x,y,cv=5)\n",
    "    print(i,scores.mean())"
   ]
  },
  {
   "cell_type": "code",
   "execution_count": null,
   "id": "1bed94c6-214f-4bd9-98d7-4a0c3f7b1688",
   "metadata": {},
   "outputs": [],
   "source": []
  }
 ],
 "metadata": {
  "kernelspec": {
   "display_name": "Python 3 (ipykernel)",
   "language": "python",
   "name": "python3"
  },
  "language_info": {
   "codemirror_mode": {
    "name": "ipython",
    "version": 3
   },
   "file_extension": ".py",
   "mimetype": "text/x-python",
   "name": "python",
   "nbconvert_exporter": "python",
   "pygments_lexer": "ipython3",
   "version": "3.9.12"
  }
 },
 "nbformat": 4,
 "nbformat_minor": 5
}
